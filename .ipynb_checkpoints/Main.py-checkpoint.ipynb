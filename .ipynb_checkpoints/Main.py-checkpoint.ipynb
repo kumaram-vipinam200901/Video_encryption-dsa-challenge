{
 "cells": [
  {
   "cell_type": "code",
   "execution_count": null,
   "id": "61425f9e",
   "metadata": {},
   "outputs": [],
   "source": [
    "def Encrypt(filename, key):\n",
    "    file = open(filename, \"rb\")\n",
    "    data = file.read()\n",
    "    file.close()\n",
    "    \n",
    "    data = bytearray(data)\n",
    "    for index, value in enumerate(data):\n",
    "        data[index] = value ^ key\n",
    "        \n",
    "    \n",
    "    file = open(\"Encrypted-\" + filename, \"wb\")\n",
    "    file.write(data)\n",
    "    file.close()\n",
    "    \n",
    "def Decrypt(filename, key):\n",
    "    file = open(filename, \"rb\")\n",
    "    data = file.read()\n",
    "    file.close()\n",
    "    \n",
    "    data = bytearray(data)\n",
    "    for index, value in enumerate(data):\n",
    "        data[index] = value ^ key\n",
    "        \n",
    "    \n",
    "    file = open(filename, \"wb\")\n",
    "    file.write(data)\n",
    "    file.close()\n",
    "    \n",
    "\n",
    "\n",
    "choice = \"\"\n",
    "while choice != \"C\":\n",
    "    print(\"Please select you option.\")\n",
    "    print(\"A. Encrypt File\")\n",
    "    print(\"B. Decrypt File\")\n",
    "    print(\"C. Quit\")\n",
    "    choice = input()\n",
    "    if choice == \"A\" or choice == \"B\":\n",
    "        key = int(input(\"Enter a key as int in range 0-255!\\n\"))\n",
    "        filename = input(\"Enter filename with extension:\\n\")\n",
    "    if choice == \"A\":\n",
    "        Encrypt(filename, key)\n",
    "    if choice == \"B\":\n",
    "        Decrypt(filename, key)"
   ]
  },
  {
   "cell_type": "code",
   "execution_count": null,
   "id": "faa41d27",
   "metadata": {},
   "outputs": [],
   "source": []
  }
 ],
 "metadata": {
  "kernelspec": {
   "display_name": "Python 3 (ipykernel)",
   "language": "python",
   "name": "python3"
  },
  "language_info": {
   "codemirror_mode": {
    "name": "ipython",
    "version": 3
   },
   "file_extension": ".py",
   "mimetype": "text/x-python",
   "name": "python",
   "nbconvert_exporter": "python",
   "pygments_lexer": "ipython3",
   "version": "3.9.7"
  }
 },
 "nbformat": 4,
 "nbformat_minor": 5
}
